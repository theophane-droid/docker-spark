{
 "cells": [
  {
   "cell_type": "code",
   "execution_count": 1,
   "id": "0d187dea-be07-4b16-ad02-78275ba6a1d0",
   "metadata": {},
   "outputs": [],
   "source": [
    "import pyspark\n",
    "import re\n",
    "from pyspark.sql import SparkSession\n",
    "from pyspark.sql.functions import regexp_extract, udf\n",
    "from pyspark.sql import functions as F\n",
    "spark = SparkSession.builder.appName('TD1').getOrCreate()"
   ]
  },
  {
   "cell_type": "code",
   "execution_count": 2,
   "id": "114d2e8e-a7f1-4386-90f0-ecaf185422b7",
   "metadata": {},
   "outputs": [],
   "source": [
    "ts_pattern = r'\\[(\\d{2}/\\w{3}/\\d{4}:\\d{2}:\\d{2}:\\d{2} \\+\\d{4})]'\n",
    "# timestamps = [re.search(ts_pattern, item).group(1) for item in sample_logs]\n",
    "method_pattern = r'\\\"(\\S+)\\s(\\S+)\\s*(\\S*)\\\"'\n",
    "# method = [re.search(method_pattern, item).group(1) for item in sample_logs]"
   ]
  },
  {
   "cell_type": "code",
   "execution_count": 3,
   "id": "b688cd17-9d58-4b37-84bf-c99fda22c2dd",
   "metadata": {},
   "outputs": [],
   "source": [
    "month_map = {\n",
    "        'Jan' : 1, 'Feb' : 2, 'Mar' : 3, 'Apr': 4, 'May' : 5, 'Jun' : 6, 'Jul': 7, 'Aug': 8, 'Sep' : 9, 'Oct': 10, 'Nov' : 11, 'Dec' : 12\n",
    "}\n",
    "\n",
    "def parse_clf_time(text):\n",
    "    \"\"\" Convert Common Log time format into a Python datetime object\n",
    "    Args:\n",
    "        text (str): date and time in Apache time format [dd/mmm/yyyy:hh:mm:ss (+/-)zzzz]\n",
    "    Returns:\n",
    "        a string suitable for passing to CAST('timestamp')\n",
    "    \"\"\"\n",
    "    # NOTE: We're ignoring the time zones here, might need to be handled depending on the problem you are solving\n",
    "    return \"{0:04d}-{1:02d}-{2:02d} {3:02d}:{4:02d}:{5:02d}\".format(\n",
    "      int(text[7:11]),\n",
    "      month_map[text[3:6]],\n",
    "      int(text[0:2]),\n",
    "      int(text[12:14]),\n",
    "      int(text[15:17]),\n",
    "      int(text[18:20])\n",
    "    )\n",
    "udf_parse_time = udf(parse_clf_time)"
   ]
  },
  {
   "cell_type": "code",
   "execution_count": 4,
   "id": "dce44562-f65b-4553-bea3-aef8a3641a58",
   "metadata": {},
   "outputs": [
    {
     "data": {
      "text/plain": [
       "'218.234.160.0 - - [01/Oct/2013:23:59:59 +0900] \"GET /pub/Linux/linuxmint/packages/dists/olivia/upstream/i18n/Translation-ko.xz HTTP/1.1\" 404 564 \"-\" \"Debian APT-HTTP/1.3 (0.9.7.7ubuntu4)\" ftp.jaist.ac.jp'"
      ]
     },
     "execution_count": 4,
     "metadata": {},
     "output_type": "execute_result"
    }
   ],
   "source": [
    "base_df = spark.read.option(\"header\", \"false\") \\\n",
    "    .option(\"delimiter\", \"\\t\") \\\n",
    "    .option(\"inferSchema\", \"true\") \\\n",
    "    .csv(\"/usr/data/sample_access_log\") \\\n",
    "    .withColumnRenamed(\"_c0\", \"col\")\n",
    "sample_logs = [s['col'] for s in base_df.take(10)]\n",
    "sample_logs[1]"
   ]
  },
  {
   "cell_type": "code",
   "execution_count": 5,
   "id": "2b2f1d7c-fb43-4507-8209-73109fb67444",
   "metadata": {},
   "outputs": [
    {
     "name": "stdout",
     "output_type": "stream",
     "text": [
      "+------+-------------------+\n",
      "|method|               time|\n",
      "+------+-------------------+\n",
      "|   GET|2013-10-01 23:59:58|\n",
      "|   GET|2013-10-01 23:59:59|\n",
      "|   GET|2013-10-01 23:59:59|\n",
      "|   GET|2013-10-02 00:00:00|\n",
      "|   GET|2013-10-02 00:00:00|\n",
      "|   GET|2013-10-02 00:00:00|\n",
      "|   GET|2013-10-02 00:00:00|\n",
      "|   GET|2013-10-01 23:59:58|\n",
      "|   GET|2013-10-02 00:00:00|\n",
      "|   GET|2013-10-02 00:00:00|\n",
      "+------+-------------------+\n",
      "\n",
      "+------+----+\n",
      "|method|hour|\n",
      "+------+----+\n",
      "|   GET|  23|\n",
      "|   GET|  23|\n",
      "|   GET|  23|\n",
      "|   GET|   0|\n",
      "|   GET|   0|\n",
      "|   GET|   0|\n",
      "|   GET|   0|\n",
      "|   GET|  23|\n",
      "|   GET|   0|\n",
      "|   GET|   0|\n",
      "+------+----+\n",
      "\n"
     ]
    }
   ],
   "source": [
    "logs_df = base_df.select(\n",
    "    regexp_extract('col', ts_pattern, 1).alias('timestamp'),\n",
    "    regexp_extract('col', method_pattern, 1).alias('method'),\n",
    ")\n",
    "# transform timestamp field\n",
    "logs_df = logs_df.select('*', udf_parse_time(logs_df['timestamp']).cast('timestamp').alias('time')).drop('timestamp')\n",
    "\n",
    "\n",
    "# voir page 61\n",
    "logs_df.limit(10).show()\n",
    "hours_df = logs_df.select('method', F.hour('time').alias('hour'))\n",
    "hours_df.limit(10).show()"
   ]
  },
  {
   "cell_type": "code",
   "execution_count": 5,
   "id": "4527663b-1fb7-484f-b009-424a984b66b9",
   "metadata": {},
   "outputs": [
    {
     "ename": "NameError",
     "evalue": "name 'hours_df' is not defined",
     "output_type": "error",
     "traceback": [
      "\u001b[0;31m---------------------------------------------------------------------------\u001b[0m",
      "\u001b[0;31mNameError\u001b[0m                                 Traceback (most recent call last)",
      "Input \u001b[0;32mIn [5]\u001b[0m, in \u001b[0;36m<cell line: 1>\u001b[0;34m()\u001b[0m\n\u001b[0;32m----> 1\u001b[0m grouped_hours_df \u001b[38;5;241m=\u001b[39m \u001b[43mhours_df\u001b[49m\u001b[38;5;241m.\u001b[39mgroupBy(\u001b[38;5;124m'\u001b[39m\u001b[38;5;124mhour\u001b[39m\u001b[38;5;124m'\u001b[39m)\u001b[38;5;241m.\u001b[39mcount()\u001b[38;5;241m.\u001b[39msort(\u001b[38;5;124m'\u001b[39m\u001b[38;5;124mhour\u001b[39m\u001b[38;5;124m'\u001b[39m)\n\u001b[1;32m      2\u001b[0m hours \u001b[38;5;241m=\u001b[39m [el[\u001b[38;5;124m'\u001b[39m\u001b[38;5;124mhour\u001b[39m\u001b[38;5;124m'\u001b[39m] \u001b[38;5;28;01mfor\u001b[39;00m el \u001b[38;5;129;01min\u001b[39;00m grouped_hours_df\u001b[38;5;241m.\u001b[39mtake(\u001b[38;5;241m24\u001b[39m)]\n\u001b[1;32m      3\u001b[0m count \u001b[38;5;241m=\u001b[39m [el[\u001b[38;5;124m'\u001b[39m\u001b[38;5;124mcount\u001b[39m\u001b[38;5;124m'\u001b[39m]\u001b[38;5;241m/\u001b[39m\u001b[38;5;241m1000\u001b[39m \u001b[38;5;28;01mfor\u001b[39;00m el \u001b[38;5;129;01min\u001b[39;00m grouped_hours_df\u001b[38;5;241m.\u001b[39mtake(\u001b[38;5;241m24\u001b[39m)]\n",
      "\u001b[0;31mNameError\u001b[0m: name 'hours_df' is not defined"
     ]
    }
   ],
   "source": [
    "grouped_hours_df = hours_df.groupBy('hour').count().sort('hour')\n",
    "hours = [el['hour'] for el in grouped_hours_df.take(24)]\n",
    "count = [el['count']/1000 for el in grouped_hours_df.take(24)]\n",
    "hours\n",
    "count"
   ]
  },
  {
   "cell_type": "code",
   "execution_count": 4,
   "id": "733a0065-6c35-4515-82c5-9d31e6e1a6e6",
   "metadata": {},
   "outputs": [
    {
     "ename": "NameError",
     "evalue": "name 'hours' is not defined",
     "output_type": "error",
     "traceback": [
      "\u001b[0;31m---------------------------------------------------------------------------\u001b[0m",
      "\u001b[0;31mNameError\u001b[0m                                 Traceback (most recent call last)",
      "Input \u001b[0;32mIn [4]\u001b[0m, in \u001b[0;36m<cell line: 5>\u001b[0;34m()\u001b[0m\n\u001b[1;32m      3\u001b[0m plt\u001b[38;5;241m.\u001b[39mxlabel(\u001b[38;5;124m'\u001b[39m\u001b[38;5;124mhours\u001b[39m\u001b[38;5;124m'\u001b[39m)\n\u001b[1;32m      4\u001b[0m plt\u001b[38;5;241m.\u001b[39mylabel(\u001b[38;5;124m'\u001b[39m\u001b[38;5;124mnumber of requests (in k)\u001b[39m\u001b[38;5;124m'\u001b[39m)\n\u001b[0;32m----> 5\u001b[0m plt\u001b[38;5;241m.\u001b[39mbar(\u001b[43mhours\u001b[49m, count)\n",
      "\u001b[0;31mNameError\u001b[0m: name 'hours' is not defined"
     ]
    },
    {
     "data": {
      "image/png": "[encoded data removed]",
      "text/plain": [
       "<Figure size 432x288 with 1 Axes>"
      ]
     },
     "metadata": {
      "needs_background": "light"
     },
     "output_type": "display_data"
    }
   ],
   "source": [
    "from matplotlib import pyplot as plt\n",
    "\n",
    "plt.xlabel('hours')\n",
    "plt.ylabel('number of requests (in k)')\n",
    "plt.bar(hours, count)"
   ]
  }
 ],
 "metadata": {
  "kernelspec": {
   "display_name": "Python 3 (ipykernel)",
   "language": "python",
   "name": "python3"
  },
  "language_info": {
   "codemirror_mode": {
    "name": "ipython",
    "version": 3
   },
   "file_extension": ".py",
   "mimetype": "text/x-python",
   "name": "python",
   "nbconvert_exporter": "python",
   "pygments_lexer": "ipython3",
   "version": "3.9.10"
  }
 },
 "nbformat": 4,
 "nbformat_minor": 5
}
