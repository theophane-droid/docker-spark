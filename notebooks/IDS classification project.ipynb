{
 "cells": [
  {
   "cell_type": "markdown",
   "id": "bdc236f3-1f44-4c65-bac3-7fe7e067120f",
   "metadata": {},
   "source": [
    "# IDS classification using NSL-KDD dataset\n",
    "\n",
    "Released by Théophane Dumas and Cyrille Tryer\n",
    "\n",
    "### Goal\n",
    "\n",
    "The goal of this project was to compare two classification models that can be used by an Intrusion Detection System.\n",
    "\n",
    "### Dataset\n",
    "\n",
    "We use the well known NSL-KDD model.\n",
    "\n",
    "### References\n",
    "\n",
    "This report is inspired from this work : [https://github.com/thinline72/nsl-kdd](https://github.com/thinline72/nsl-kdd)"
   ]
  },
  {
   "cell_type": "markdown",
   "id": "38e59356-106d-4cca-964b-8221a3c1a4a4",
   "metadata": {},
   "source": [
    "# Data processing\n",
    "\n",
    "First we connect to Spark, and we load the dataset.\n",
    "\n",
    "This dataset contains 41 features like protocol_type or service. These feature describe a network connexion, a label is associated to the connexion like normal, apache2 or satan."
   ]
  },
  {
   "cell_type": "code",
   "execution_count": 1,
   "id": "bfc54638-b297-4738-a42b-abb6fe2c75e7",
   "metadata": {},
   "outputs": [],
   "source": [
    "import pyspark\n",
    "import numpy as np\n",
    "import re\n",
    "from pyspark.sql import SparkSession\n",
    "from pyspark.sql.functions import regexp_extract, udf\n",
    "from pyspark.sql import functions as F\n",
    "from pyspark.sql.types import *\n",
    "from pyspark.sql.functions import udf, split, col\n",
    "import pyspark.sql.functions as sql\n",
    "\n",
    "context = SparkSession.builder.appName('projet').getOrCreate().sparkContext"
   ]
  },
  {
   "cell_type": "code",
   "execution_count": 2,
   "id": "736ce200-fa9d-44ab-93fc-6c695b69b059",
   "metadata": {},
   "outputs": [],
   "source": [
    "# Function to load dataset and divide it into 8 partitions\n",
    "col_names = np.array([\"duration\",\"protocol_type\",\"service\",\"flag\",\"src_bytes\",\n",
    "    \"dst_bytes\",\"land\",\"wrong_fragment\",\"urgent\",\"hot\",\"num_failed_logins\",\n",
    "    \"logged_in\",\"num_compromised\",\"root_shell\",\"su_attempted\",\"num_root\",\n",
    "    \"num_file_creations\",\"num_shells\",\"num_access_files\",\"num_outbound_cmds\",\n",
    "    \"is_host_login\",\"is_guest_login\",\"count\",\"srv_count\",\"serror_rate\",\n",
    "    \"srv_serror_rate\",\"rerror_rate\",\"srv_rerror_rate\",\"same_srv_rate\",\n",
    "    \"diff_srv_rate\",\"srv_diff_host_rate\",\"dst_host_count\",\"dst_host_srv_count\",\n",
    "    \"dst_host_same_srv_rate\",\"dst_host_diff_srv_rate\",\"dst_host_same_src_port_rate\",\n",
    "    \"dst_host_srv_diff_host_rate\",\"dst_host_serror_rate\",\"dst_host_srv_serror_rate\",\n",
    "    \"dst_host_rerror_rate\",\"dst_host_srv_rerror_rate\",\"labels\"])\n",
    "\n",
    "def load_dataset(path):\n",
    "    dataset_rdd = context.textFile(path, 8).map(lambda line: line.split(','))\n",
    "    dataset_df = (dataset_rdd.toDF(col_names.tolist()).select(\n",
    "                    col('duration').cast(DoubleType()),\n",
    "                    col('protocol_type').cast(StringType()),\n",
    "                    col('service').cast(StringType()),\n",
    "                    col('flag').cast(StringType()),\n",
    "                    col('src_bytes').cast(DoubleType()),\n",
    "                    col('dst_bytes').cast(DoubleType()),\n",
    "                    col('land').cast(DoubleType()),\n",
    "                    col('wrong_fragment').cast(DoubleType()),\n",
    "                    col('urgent').cast(DoubleType()),\n",
    "                    col('hot').cast(DoubleType()),\n",
    "                    col('num_failed_logins').cast(DoubleType()),\n",
    "                    col('logged_in').cast(DoubleType()),\n",
    "                    col('num_compromised').cast(DoubleType()),\n",
    "                    col('root_shell').cast(DoubleType()),\n",
    "                    col('su_attempted').cast(DoubleType()),\n",
    "                    col('num_root').cast(DoubleType()),\n",
    "                    col('num_file_creations').cast(DoubleType()),\n",
    "                    col('num_shells').cast(DoubleType()),\n",
    "                    col('num_access_files').cast(DoubleType()),\n",
    "                    col('num_outbound_cmds').cast(DoubleType()),\n",
    "                    col('is_host_login').cast(DoubleType()),\n",
    "                    col('is_guest_login').cast(DoubleType()),\n",
    "                    col('count').cast(DoubleType()),\n",
    "                    col('srv_count').cast(DoubleType()),\n",
    "                    col('serror_rate').cast(DoubleType()),\n",
    "                    col('srv_serror_rate').cast(DoubleType()),\n",
    "                    col('rerror_rate').cast(DoubleType()),\n",
    "                    col('srv_rerror_rate').cast(DoubleType()),\n",
    "                    col('same_srv_rate').cast(DoubleType()),\n",
    "                    col('diff_srv_rate').cast(DoubleType()),\n",
    "                    col('srv_diff_host_rate').cast(DoubleType()),\n",
    "                    col('dst_host_count').cast(DoubleType()),\n",
    "                    col('dst_host_srv_count').cast(DoubleType()),\n",
    "                    col('dst_host_same_srv_rate').cast(DoubleType()),\n",
    "                    col('dst_host_diff_srv_rate').cast(DoubleType()),\n",
    "                    col('dst_host_same_src_port_rate').cast(DoubleType()),\n",
    "                    col('dst_host_srv_diff_host_rate').cast(DoubleType()),\n",
    "                    col('dst_host_serror_rate').cast(DoubleType()),\n",
    "                    col('dst_host_srv_serror_rate').cast(DoubleType()),\n",
    "                    col('dst_host_rerror_rate').cast(DoubleType()),\n",
    "                    col('dst_host_srv_rerror_rate').cast(DoubleType()),\n",
    "                    col('labels').cast(StringType())))\n",
    "\n",
    "    return dataset_df"
   ]
  },
  {
   "cell_type": "code",
   "execution_count": 3,
   "id": "2a5a3efa-1e4d-48a7-bd64-c6f936bfd82a",
   "metadata": {},
   "outputs": [],
   "source": [
    "train = load_dataset('kdd/KDDTrain+.txt')\n",
    "test = load_dataset('kdd/KDDTest+.txt')"
   ]
  },
  {
   "cell_type": "code",
   "execution_count": 4,
   "id": "b97016ea-1201-436d-81df-1d5a8577de06",
   "metadata": {},
   "outputs": [
    {
     "name": "stdout",
     "output_type": "stream",
     "text": [
      "number of lines loaded : 148517\n"
     ]
    }
   ],
   "source": [
    "print('number of lines loaded :', train.count() + test.count())"
   ]
  },
  {
   "cell_type": "code",
   "execution_count": 5,
   "id": "9f884aad-801d-4b16-9f82-7bad64105d7e",
   "metadata": {},
   "outputs": [
    {
     "name": "stdout",
     "output_type": "stream",
     "text": [
      "# Top 10 labels :\n",
      "+-----------+-----+\n",
      "|     labels|count|\n",
      "+-----------+-----+\n",
      "|     normal|67343|\n",
      "|    neptune|41214|\n",
      "|      satan| 3633|\n",
      "|    ipsweep| 3599|\n",
      "|  portsweep| 2931|\n",
      "|      smurf| 2646|\n",
      "|       nmap| 1493|\n",
      "|       back|  956|\n",
      "|   teardrop|  892|\n",
      "|warezclient|  890|\n",
      "+-----------+-----+\n",
      "\n"
     ]
    }
   ],
   "source": [
    "print('# Top 10 labels :')\n",
    "train.groupBy('labels').count().sort('count', ascending=False).limit(10).show()"
   ]
  },
  {
   "cell_type": "code",
   "execution_count": 6,
   "id": "eb0040e5-32ec-4197-91c0-f76971c7a1ea",
   "metadata": {},
   "outputs": [
    {
     "name": "stdout",
     "output_type": "stream",
     "text": [
      "# Top 10 services :\n",
      "+--------+-----+\n",
      "| service|count|\n",
      "+--------+-----+\n",
      "|    http|40338|\n",
      "| private|21853|\n",
      "|domain_u| 9043|\n",
      "|    smtp| 7313|\n",
      "|ftp_data| 6860|\n",
      "|   eco_i| 4586|\n",
      "|   other| 4359|\n",
      "|   ecr_i| 3077|\n",
      "|  telnet| 2353|\n",
      "|  finger| 1767|\n",
      "+--------+-----+\n",
      "\n"
     ]
    }
   ],
   "source": [
    "print('# Top 10 services :')\n",
    "train.groupBy('service').count().sort('count', ascending=False).limit(10).show()"
   ]
  },
  {
   "cell_type": "markdown",
   "id": "b3925a0d-6457-4663-85df-93051441dcf0",
   "metadata": {},
   "source": [
    "# Pipeline definition\n",
    "\n",
    "We define a pipeline to format train & test datasets for classification models."
   ]
  },
  {
   "cell_type": "code",
   "execution_count": 7,
   "id": "35ef9c7b-e310-4c93-8a6b-b2c9a0197315",
   "metadata": {},
   "outputs": [],
   "source": [
    "from pyspark.ml import Pipeline, Transformer\n",
    "from pyspark import keyword_only\n",
    "\n",
    "# We simplify class like in https://github.com/thinline72/nsl-kdd.\n",
    "\n",
    "attack_dict = {\n",
    "    'normal': 'normal',\n",
    "    \n",
    "    'back': 'DoS',\n",
    "    'land': 'DoS',\n",
    "    'neptune': 'DoS',\n",
    "    'pod': 'DoS',\n",
    "    'smurf': 'DoS',\n",
    "    'teardrop': 'DoS',\n",
    "    'mailbomb': 'DoS',\n",
    "    'apache2': 'DoS',\n",
    "    'processtable': 'DoS',\n",
    "    'udpstorm': 'DoS',\n",
    "    \n",
    "    'ipsweep': 'scan',\n",
    "    'nmap': 'scan',\n",
    "    'portsweep': 'scan',\n",
    "    'satan': 'scan',\n",
    "    'mscan': 'scan',\n",
    "    'saint': 'scan',\n",
    "\n",
    "    'ftp_write': 'R2L',\n",
    "    'guess_passwd': 'R2L',\n",
    "    'imap': 'R2L',\n",
    "    'multihop': 'R2L',\n",
    "    'phf': 'R2L',\n",
    "    'spy': 'R2L',\n",
    "    'warezclient': 'R2L',\n",
    "    'warezmaster': 'R2L',\n",
    "    'sendmail': 'R2L',\n",
    "    'named': 'R2L',\n",
    "    'snmpgetattack': 'R2L',\n",
    "    'snmpguess': 'R2L',\n",
    "    'xlock': 'R2L',\n",
    "    'xsnoop': 'R2L',\n",
    "    'worm': 'R2L',\n",
    "    \n",
    "    'buffer_overflow': 'privesc',\n",
    "    'loadmodule': 'privesc',\n",
    "    'perl': 'privesc',\n",
    "    'rootkit': 'privesc',\n",
    "    'httptunnel': 'privesc',\n",
    "    'ps': 'privesc',    \n",
    "    'sqlattack': 'privesc',\n",
    "    'xterm': 'privesc'\n",
    "}\n",
    "\n",
    "attack_mapping_udf = udf(lambda v: attack_dict[v])\n",
    "\n",
    "train = train.withColumn('labels5', attack_mapping_udf(train['labels']))\n",
    "test = test.withColumn('labels5', attack_mapping_udf(test['labels']))"
   ]
  },
  {
   "cell_type": "code",
   "execution_count": 8,
   "id": "547973af-f24c-40b6-a335-f3e9c0c716d0",
   "metadata": {},
   "outputs": [
    {
     "name": "stdout",
     "output_type": "stream",
     "text": [
      "['protocol_type_idx', 'service_idx', 'flag_idx', 'labels_idx', 'duration', 'src_bytes', 'dst_bytes', 'land', 'wrong_fragment', 'urgent', 'hot', 'num_failed_logins', 'logged_in', 'num_compromised', 'root_shell', 'su_attempted', 'num_root', 'num_file_creations', 'num_shells', 'num_access_files', 'num_outbound_cmds', 'is_host_login', 'is_guest_login', 'count', 'srv_count', 'serror_rate', 'srv_serror_rate', 'rerror_rate', 'srv_rerror_rate', 'same_srv_rate', 'diff_srv_rate', 'srv_diff_host_rate', 'dst_host_count', 'dst_host_srv_count', 'dst_host_same_srv_rate', 'dst_host_diff_srv_rate', 'dst_host_same_src_port_rate', 'dst_host_srv_diff_host_rate', 'dst_host_serror_rate', 'dst_host_srv_serror_rate', 'dst_host_rerror_rate', 'dst_host_srv_rerror_rate']\n"
     ]
    }
   ],
   "source": [
    "from pyspark.ml.feature import StringIndexer, VectorAssembler, StandardScaler, UnivariateFeatureSelector, VarianceThresholdSelector\n",
    "from pyspark.ml import Pipeline\n",
    "\n",
    "stages = []\n",
    "\n",
    "feature_names = []\n",
    "\n",
    "for col in test.schema :\n",
    "    if str(col.dataType) == 'StringType':\n",
    "        try:\n",
    "            si = StringIndexer(inputCol = col.name, outputCol = col.name + '_idx')\n",
    "            stages += [si]\n",
    "            feature_names += [col.name + '_idx']\n",
    "        except:\n",
    "            pass\n",
    "\n",
    "feature_names += [col.name for col in train.schema if col.name not in [\"labels\", \"protocol_type\", \"service\", \"flag\"] and str(col.dataType) == 'DoubleType' ]\n",
    "feature_names.remove('labels5_idx')\n",
    "print(feature_names)\n",
    "\n",
    "assembler = VectorAssembler(outputCol=\"features\", inputCols=feature_names)\n",
    "\n",
    "stages += [assembler]\n",
    "\n",
    "normalizer = StandardScaler(inputCol=\"features\", outputCol=\"normFeatures\")\n",
    "stages += [normalizer]\n",
    "\n",
    "selector = UnivariateFeatureSelector(featuresCol=\"normFeatures\", outputCol=\"selectedFeatures\",\n",
    "                                     labelCol=\"labels5_idx\", selectionMode=\"numTopFeatures\")\n",
    "selector.setFeatureType(\"continuous\").setLabelType(\"categorical\").setSelectionThreshold(10)\n",
    "# selector = VarianceThresholdSelector(varianceThreshold=0.1, outputCol=\"selectedFeatures\", featuresCol=\"normFeatures\")\n",
    "# old one was 0.2\n",
    "stages += [selector]\n",
    "\n",
    "pipeline = Pipeline(stages=stages)"
   ]
  },
  {
   "cell_type": "markdown",
   "id": "d1724721-4364-4a09-8db9-c16ba82005a7",
   "metadata": {},
   "source": [
    "Then we use pipeline to transform datasets "
   ]
  },
  {
   "cell_type": "code",
   "execution_count": 9,
   "id": "6204bac7-ca76-463f-b75c-7d7f8d9afee8",
   "metadata": {},
   "outputs": [],
   "source": [
    "# prepare data\n",
    "train_data = pipeline.fit(train).transform(train)\n",
    "train_data = train_data.withColumnRenamed(\"labels_idx\", \"label\")\n",
    "train_data = train_data.drop(\"features\")\n",
    "train_data = train_data.withColumnRenamed(\"selectedFeatures\", \"features\")\n",
    "\n",
    "test_data = pipeline.fit(test).transform(test)\n",
    "test_data = test_data.withColumnRenamed(\"labels_idx\", \"label\")\n",
    "test_data = test_data.drop(\"features\")\n",
    "test_data = test_data.withColumnRenamed(\"selectedFeatures\", \"features\")\n",
    "\n",
    "# train_data.select('normFeatures').limit(1).show(truncate=False)"
   ]
  },
  {
   "cell_type": "code",
   "execution_count": 10,
   "id": "5d43adf5-0a69-4e0d-889e-2f9992fd74ee",
   "metadata": {},
   "outputs": [
    {
     "data": {
      "text/html": [
       "<div>\n",
       "<style scoped>\n",
       "    .dataframe tbody tr th:only-of-type {\n",
       "        vertical-align: middle;\n",
       "    }\n",
       "\n",
       "    .dataframe tbody tr th {\n",
       "        vertical-align: top;\n",
       "    }\n",
       "\n",
       "    .dataframe thead th {\n",
       "        text-align: right;\n",
       "    }\n",
       "</style>\n",
       "<table border=\"1\" class=\"dataframe\">\n",
       "  <thead>\n",
       "    <tr style=\"text-align: right;\">\n",
       "      <th></th>\n",
       "      <th>features</th>\n",
       "    </tr>\n",
       "  </thead>\n",
       "  <tbody>\n",
       "    <tr>\n",
       "      <th>0</th>\n",
       "      <td>(0.0, 0.3364698152787053, 0.0, 0.0, 0.0, 0.0, ...</td>\n",
       "    </tr>\n",
       "  </tbody>\n",
       "</table>\n",
       "</div>"
      ],
      "text/plain": [
       "                                            features\n",
       "0  (0.0, 0.3364698152787053, 0.0, 0.0, 0.0, 0.0, ..."
      ]
     },
     "execution_count": 10,
     "metadata": {},
     "output_type": "execute_result"
    }
   ],
   "source": [
    "train_data.select('features').limit(1).toPandas()"
   ]
  },
  {
   "cell_type": "markdown",
   "id": "60dabb89-9e90-469b-843b-f2e1d764abcd",
   "metadata": {},
   "source": [
    "# Prediction with NaiveBayes model"
   ]
  },
  {
   "cell_type": "code",
   "execution_count": 11,
   "id": "f8ae6c37-80ee-4052-ba5a-9dd175848938",
   "metadata": {},
   "outputs": [],
   "source": [
    "# Naives Bayes\n",
    "from pyspark.ml.classification import NaiveBayes\n",
    "\n",
    "nb = NaiveBayes(smoothing=1.0, modelType=\"multinomial\")\n",
    "naive_bayes_model = nb.fit(train_data)"
   ]
  },
  {
   "cell_type": "code",
   "execution_count": 12,
   "id": "a3f18ee6-155b-4962-8980-2e28e97fbbfe",
   "metadata": {},
   "outputs": [
    {
     "name": "stdout",
     "output_type": "stream",
     "text": [
      "First 10 predictions : \n",
      "+-----+----------+--------------------+\n",
      "|label|prediction|         probability|\n",
      "+-----+----------+--------------------+\n",
      "|  1.0|       1.0|[0.02015479803007...|\n",
      "|  1.0|       1.0|[0.02015479803007...|\n",
      "|  0.0|       1.0|[0.31790218781455...|\n",
      "| 11.0|       5.0|[2.56200448974404...|\n",
      "|  3.0|       1.0|[5.59283618338924...|\n",
      "|  0.0|       0.0|[0.96335851943539...|\n",
      "|  0.0|       0.0|[0.99901550276848...|\n",
      "|  2.0|      11.0|[4.37636473286757...|\n",
      "|  0.0|       0.0|[0.99569162698957...|\n",
      "|  2.0|      11.0|[1.39622670385850...|\n",
      "+-----+----------+--------------------+\n",
      "\n",
      "accuracy in test dataset : 0.9306079252302235\n"
     ]
    }
   ],
   "source": [
    "from pyspark.ml.evaluation import BinaryClassificationEvaluator\n",
    "\n",
    "predictions = naive_bayes_model.transform(test_data)\n",
    "\n",
    "evaluator = BinaryClassificationEvaluator(rawPredictionCol=\"prediction\")\n",
    "naive_bayes_accuracy = evaluator.evaluate(predictions)\n",
    "\n",
    "print('First 10 predictions : ')\n",
    "predictions.limit(10).select(\"label\", \"prediction\", \"probability\").show()\n",
    "\n",
    "print('accuracy in test dataset :', naive_bayes_accuracy)"
   ]
  },
  {
   "cell_type": "markdown",
   "id": "6a54e802-2d04-4a84-9cdd-727242e004ea",
   "metadata": {},
   "source": [
    "# Prediction with LogisticRegression model"
   ]
  },
  {
   "cell_type": "code",
   "execution_count": 13,
   "id": "37f5f29e-b061-4fb1-b93b-0d7c785d9442",
   "metadata": {},
   "outputs": [],
   "source": [
    "# multinomial logistic regression\n",
    "from pyspark.ml.classification import LogisticRegression\n",
    "\n",
    "lr = LogisticRegression(maxIter=20, regParam=0.3, elasticNetParam=0.8)\n",
    "\n",
    "\n",
    "logic_reg = lr.fit(train_data)"
   ]
  },
  {
   "cell_type": "code",
   "execution_count": 14,
   "id": "276cbdc0-4c36-4111-95dc-58e74f2544f4",
   "metadata": {},
   "outputs": [
    {
     "name": "stdout",
     "output_type": "stream",
     "text": [
      "First 10 predictions : \n",
      "+-----+----------+--------------------+\n",
      "|label|prediction|         probability|\n",
      "+-----+----------+--------------------+\n",
      "|  1.0|       0.0|[0.47990642848867...|\n",
      "|  1.0|       0.0|[0.47990642848867...|\n",
      "|  0.0|       0.0|[0.48620687209608...|\n",
      "| 11.0|       0.0|[0.41757690374265...|\n",
      "|  3.0|       0.0|[0.46732668598615...|\n",
      "|  0.0|       0.0|[0.64218678280572...|\n",
      "|  0.0|       0.0|[0.64218678280572...|\n",
      "|  2.0|       0.0|[0.47361236973570...|\n",
      "|  0.0|       0.0|[0.64218678280572...|\n",
      "|  2.0|       0.0|[0.47361236973570...|\n",
      "+-----+----------+--------------------+\n",
      "\n",
      "accuracy in test dataset : 0.5311696407698902\n"
     ]
    }
   ],
   "source": [
    "from pyspark.ml.evaluation import BinaryClassificationEvaluator\n",
    "\n",
    "predictions = logic_reg.transform(test_data)\n",
    "\n",
    "evaluator = BinaryClassificationEvaluator(rawPredictionCol=\"prediction\")\n",
    "logistic_reg_accuracy = evaluator.evaluate(predictions)\n",
    "\n",
    "print('First 10 predictions : ')\n",
    "predictions.limit(10).select(\"label\", \"prediction\", \"probability\").show()\n",
    "\n",
    "print('accuracy in test dataset :', logistic_reg_accuracy)"
   ]
  },
  {
   "cell_type": "markdown",
   "id": "128624c0-6a47-42e1-93cc-58826065ff5e",
   "metadata": {},
   "source": [
    "# Random forest classifier"
   ]
  },
  {
   "cell_type": "code",
   "execution_count": 15,
   "id": "4a55d0b1-0a46-4551-8309-fdf88c938d2a",
   "metadata": {},
   "outputs": [],
   "source": [
    "from pyspark.ml.classification import RandomForestClassifier\n",
    "\n",
    "rfc = RandomForestClassifier(numTrees=4)\n",
    "random_forest_model = rfc.fit(train_data)"
   ]
  },
  {
   "cell_type": "code",
   "execution_count": 16,
   "id": "d98d8988-1720-43b4-8591-49323e6e0854",
   "metadata": {},
   "outputs": [
    {
     "name": "stdout",
     "output_type": "stream",
     "text": [
      "First 10 predictions : \n",
      "+-----+----------+--------------------+\n",
      "|label|prediction|         probability|\n",
      "+-----+----------+--------------------+\n",
      "|  1.0|       0.0|[1.0,0.0,0.0,0.0,...|\n",
      "|  1.0|       0.0|[1.0,0.0,0.0,0.0,...|\n",
      "|  0.0|       0.0|[1.0,0.0,0.0,0.0,...|\n",
      "| 11.0|       5.0|[0.0,0.0,0.128571...|\n",
      "|  3.0|       2.0|[0.0,0.4448665880...|\n",
      "|  0.0|       0.0|[0.99688548423171...|\n",
      "|  0.0|       0.0|[1.0,0.0,0.0,0.0,...|\n",
      "|  2.0|       2.0|[0.24923234390992...|\n",
      "|  0.0|       0.0|[0.99688548423171...|\n",
      "|  2.0|       2.0|[0.0,0.2499999999...|\n",
      "|  3.0|       2.0|[0.24923234390992...|\n",
      "|  0.0|       0.0|[1.0,0.0,0.0,0.0,...|\n",
      "|  1.0|       0.0|[1.0,0.0,0.0,0.0,...|\n",
      "|  1.0|       0.0|[1.0,0.0,0.0,0.0,...|\n",
      "|  0.0|       0.0|[0.98500967117988...|\n",
      "|  0.0|       0.0|[0.99688548423171...|\n",
      "|  0.0|       0.0|[0.99688548423171...|\n",
      "|  0.0|       0.0|[0.99688548423171...|\n",
      "|  0.0|       0.0|[0.82526636225266...|\n",
      "|  1.0|       0.0|[1.0,0.0,0.0,0.0,...|\n",
      "+-----+----------+--------------------+\n",
      "\n",
      "accuracy in test dataset : 0.8177355255980675\n"
     ]
    }
   ],
   "source": [
    "from pyspark.ml.evaluation import BinaryClassificationEvaluator\n",
    "\n",
    "predictions = random_forest_model.transform(test_data)\n",
    "\n",
    "evaluator = BinaryClassificationEvaluator(rawPredictionCol=\"prediction\")\n",
    "random_forest_accuracy = evaluator.evaluate(predictions)\n",
    "\n",
    "print('First 10 predictions : ')\n",
    "predictions.limit(20).select(\"label\", \"prediction\", \"probability\").show()\n",
    "\n",
    "print('accuracy in test dataset :', random_forest_accuracy)"
   ]
  },
  {
   "cell_type": "markdown",
   "id": "789650b7-2d24-49e6-bad3-ae23695000af",
   "metadata": {},
   "source": [
    "# Conclusion"
   ]
  },
  {
   "cell_type": "code",
   "execution_count": 17,
   "id": "3d5d6085-138e-4fb8-9cc2-7190a5d69714",
   "metadata": {},
   "outputs": [
    {
     "name": "stdout",
     "output_type": "stream",
     "text": [
      "\n",
      "The most effective model is Naive Bayes. with an accuracy of 0.9306079252302235\n"
     ]
    },
    {
     "data": {
      "image/png": "[encoded data removed]",
      "text/plain": [
       "<Figure size 432x288 with 1 Axes>"
      ]
     },
     "metadata": {
      "needs_background": "light"
     },
     "output_type": "display_data"
    }
   ],
   "source": [
    "from matplotlib import pyplot as plt\n",
    "\n",
    "x =  ['Naive Bayes', 'Logistic Reggression', 'Random forest']\n",
    "y = [naive_bayes_accuracy, logistic_reg_accuracy, random_forest_accuracy]\n",
    "\n",
    "plt.bar(x, y)\n",
    "\n",
    "acc_max = x[y.index(max(y))]\n",
    "print('\\nThe most effective model is %s. with an accuracy of %s' % (acc_max, max(y)))"
   ]
  }
 ],
 "metadata": {
  "kernelspec": {
   "display_name": "Python 3 (ipykernel)",
   "language": "python",
   "name": "python3"
  },
  "language_info": {
   "codemirror_mode": {
    "name": "ipython",
    "version": 3
   },
   "file_extension": ".py",
   "mimetype": "text/x-python",
   "name": "python",
   "nbconvert_exporter": "python",
   "pygments_lexer": "ipython3",
   "version": "3.9.10"
  }
 },
 "nbformat": 4,
 "nbformat_minor": 5
}
